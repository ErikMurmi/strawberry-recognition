{
 "cells": [
  {
   "cell_type": "code",
   "execution_count": 1,
   "metadata": {},
   "outputs": [
    {
     "name": "stdout",
     "output_type": "stream",
     "text": [
      "PyTorch version: 2.0.1+cu118\n",
      "**********\n",
      "_CUDA version: \n",
      "nvcc: NVIDIA (R) Cuda compiler driver\n",
      "Copyright (c) 2005-2022 NVIDIA Corporation\n",
      "Built on Wed_Sep_21_10:41:10_Pacific_Daylight_Time_2022\n",
      "Cuda compilation tools, release 11.8, V11.8.89\n",
      "Build cuda_11.8.r11.8/compiler.31833905_0\n",
      "**********\n",
      "CUDNN version: 8700\n",
      "Available GPU devices: 1\n",
      "Device Name: NVIDIA GeForce RTX 3050 Laptop GPU\n"
     ]
    }
   ],
   "source": [
    "import torch\n",
    "print(f'PyTorch version: {torch.__version__}')\n",
    "print('*'*10)\n",
    "print(f'_CUDA version: ')\n",
    "!nvcc --version\n",
    "print('*'*10)\n",
    "print(f'CUDNN version: {torch.backends.cudnn.version()}')\n",
    "print(f'Available GPU devices: {torch.cuda.device_count()}')\n",
    "print(f'Device Name: {torch.cuda.get_device_name()}')"
   ]
  },
  {
   "cell_type": "code",
   "execution_count": 2,
   "metadata": {},
   "outputs": [],
   "source": [
    "# Import the libraries\n",
    "import torch\n",
    "import torch.nn as nn\n",
    "import torchvision.models as models\n",
    "import torchvision.transforms as transforms\n",
    "from torch.utils.data import DataLoader, random_split\n",
    "from torchvision.datasets import ImageFolder\n"
   ]
  },
  {
   "cell_type": "code",
   "execution_count": 3,
   "metadata": {},
   "outputs": [],
   "source": [
    "# Creating loaders for data\n",
    "data_dir = 'dtset' # Root dir\n",
    "#Transformation for pictures\n",
    "transform = transforms.Compose([\n",
    "    transforms.Resize((224, 224)),  # Resize images to the input size required by AlexNet\n",
    "    transforms.ToTensor(),  # Convert images to tensors\n",
    "    transforms.Normalize(mean=[0.485, 0.456, 0.406], std=[0.229, 0.224, 0.225])  # Normalize images\n",
    "])\n",
    "\n",
    "#Torch folders for data \n",
    "train_dataset = ImageFolder(root=data_dir + '/train', transform=transform)\n",
    "test_dataset = ImageFolder(root=data_dir + '/test', transform=transform)\n",
    "val_dataset = ImageFolder(root=data_dir + '/val', transform=transform)\n",
    "\n",
    "# Create data loaders\n",
    "batch_size = 32\n",
    "train_loader = DataLoader(train_dataset, batch_size=batch_size, shuffle=True)\n",
    "test_loader = DataLoader(test_dataset, batch_size=batch_size, shuffle=False)\n",
    "val_loader = DataLoader(val_dataset, batch_size=batch_size, shuffle=False)"
   ]
  },
  {
   "cell_type": "code",
   "execution_count": 4,
   "metadata": {},
   "outputs": [
    {
     "name": "stderr",
     "output_type": "stream",
     "text": [
      "c:\\Users\\erikm\\anaconda3\\lib\\site-packages\\torchvision\\models\\_utils.py:208: UserWarning: The parameter 'pretrained' is deprecated since 0.13 and may be removed in the future, please use 'weights' instead.\n",
      "  warnings.warn(\n",
      "c:\\Users\\erikm\\anaconda3\\lib\\site-packages\\torchvision\\models\\_utils.py:223: UserWarning: Arguments other than a weight enum or `None` for 'weights' are deprecated since 0.13 and may be removed in the future. The current behavior is equivalent to passing `weights=AlexNet_Weights.IMAGENET1K_V1`. You can also use `weights=AlexNet_Weights.DEFAULT` to get the most up-to-date weights.\n",
      "  warnings.warn(msg)\n"
     ]
    }
   ],
   "source": [
    "#Loading the model \n",
    "model = models.alexnet(pretrained=True)"
   ]
  },
  {
   "cell_type": "code",
   "execution_count": 12,
   "metadata": {},
   "outputs": [],
   "source": [
    "num_classes = 7\n",
    "model.classifier[6] = nn.Linear(4096, num_classes)"
   ]
  },
  {
   "cell_type": "code",
   "execution_count": 22,
   "metadata": {},
   "outputs": [],
   "source": [
    "criterion = nn.CrossEntropyLoss()\n",
    "optimizer = torch.optim.SGD(model.parameters(), lr=0.001,weight_decay=0.001)\n",
    "#scheduler = torch.optim.lr_scheduler.StepLR(optimizer, step_size=3, gamma=0.1)\n"
   ]
  },
  {
   "cell_type": "code",
   "execution_count": 23,
   "metadata": {},
   "outputs": [],
   "source": [
    "device = torch.device(\"cuda\" if torch.cuda.is_available() else \"cpu\")\n",
    "model = model.to(device)"
   ]
  },
  {
   "cell_type": "code",
   "execution_count": 24,
   "metadata": {},
   "outputs": [
    {
     "name": "stdout",
     "output_type": "stream",
     "text": [
      "Epoch 1/20, Loss: 0.0010\n",
      "Epoch 2/20, Loss: 0.0016\n",
      "Epoch 3/20, Loss: 0.0013\n",
      "Epoch 4/20, Loss: 0.0007\n",
      "Epoch 5/20, Loss: 0.0011\n",
      "Epoch 6/20, Loss: 0.0011\n",
      "Epoch 7/20, Loss: 0.0009\n",
      "Epoch 8/20, Loss: 0.0013\n",
      "Epoch 9/20, Loss: 0.0006\n",
      "Epoch 10/20, Loss: 0.0012\n",
      "Epoch 11/20, Loss: 0.0006\n",
      "Epoch 12/20, Loss: 0.0007\n",
      "Epoch 13/20, Loss: 0.0008\n",
      "Epoch 14/20, Loss: 0.0010\n",
      "Epoch 15/20, Loss: 0.0013\n",
      "Epoch 16/20, Loss: 0.0007\n",
      "Epoch 17/20, Loss: 0.0012\n",
      "Epoch 18/20, Loss: 0.0007\n",
      "Epoch 19/20, Loss: 0.0006\n",
      "Epoch 20/20, Loss: 0.0010\n"
     ]
    }
   ],
   "source": [
    "# Train the model\n",
    "num_epochs = 20\n",
    "example_image = None\n",
    "for epoch in range(num_epochs):\n",
    "    model.train()\n",
    "    running_loss = 0.0\n",
    "\n",
    "    for images, labels in train_loader:\n",
    "        images = images.to(device)\n",
    "        labels = labels.to(device)\n",
    "        #scheduler.step()\n",
    "        optimizer.zero_grad()\n",
    "\n",
    "        # Forward pass\n",
    "        outputs = model(images)\n",
    "        loss = criterion(outputs, labels)\n",
    "\n",
    "        # Backward pass and optimization\n",
    "        loss.backward()\n",
    "        optimizer.step()\n",
    "\n",
    "        running_loss += loss.item()\n",
    "\n",
    "    epoch_loss = running_loss / len(train_loader)\n",
    "    print(f\"Epoch {epoch+1}/{num_epochs}, Loss: {epoch_loss:.4f}\")"
   ]
  },
  {
   "cell_type": "code",
   "execution_count": 10,
   "metadata": {},
   "outputs": [
    {
     "name": "stdout",
     "output_type": "stream",
     "text": [
      "Epoch 1/20, Loss: 0.0012\n",
      "Epoch 2/20, Loss: 0.0012\n",
      "Epoch 3/20, Loss: 0.0009\n",
      "Epoch 4/20, Loss: 0.0006\n",
      "Epoch 5/20, Loss: 0.0007\n",
      "Epoch 6/20, Loss: 0.0004\n",
      "Epoch 7/20, Loss: 0.0005\n",
      "Epoch 8/20, Loss: 0.0004\n",
      "Epoch 9/20, Loss: 0.0004\n",
      "Epoch 10/20, Loss: 0.0003\n",
      "Epoch 11/20, Loss: 0.0006\n",
      "Epoch 12/20, Loss: 0.0006\n",
      "Epoch 13/20, Loss: 0.0003\n",
      "Epoch 14/20, Loss: 0.0002\n",
      "Epoch 15/20, Loss: 0.0003\n",
      "Epoch 16/20, Loss: 0.0002\n",
      "Epoch 17/20, Loss: 0.0002\n",
      "Epoch 18/20, Loss: 0.0002\n",
      "Epoch 19/20, Loss: 0.0002\n",
      "Epoch 20/20, Loss: 0.0002\n"
     ]
    }
   ],
   "source": [
    "best_validation_loss = float('inf')  # Initialize with a large value\n",
    "num_epochs = 20\n",
    "# Move model to the specified device\n",
    "\n",
    "for epoch in range(num_epochs):\n",
    "    model.train()\n",
    "    running_loss = 0.0\n",
    "\n",
    "    for images, labels in train_loader:\n",
    "        images = images.to(device)\n",
    "        labels = labels.to(device)\n",
    "\n",
    "        optimizer.zero_grad()\n",
    "\n",
    "        # Forward pass\n",
    "        outputs = model(images)\n",
    "        loss = criterion(outputs, labels)\n",
    "\n",
    "        # Backward pass and optimization\n",
    "        loss.backward()\n",
    "        optimizer.step()\n",
    "\n",
    "        running_loss += loss.item()\n",
    "\n",
    "    epoch_loss = running_loss / len(train_loader)\n",
    "    print(f\"Epoch {epoch+1}/{num_epochs}, Loss: {epoch_loss:.4f}\")\n",
    "\n",
    "    # Validation\n",
    "    model.eval()\n",
    "    with torch.no_grad():\n",
    "        validation_loss = 0.0\n",
    "        correct = 0\n",
    "        total = 0\n",
    "        for images, labels in val_loader:\n",
    "            images = images.to(device)\n",
    "            labels = labels.to(device)\n",
    "\n",
    "            outputs = model(images)\n",
    "            loss = criterion(outputs, labels)\n",
    "            validation_loss += loss.item()\n",
    "\n",
    "            _, predicted = outputs.max(1)\n",
    "            total += labels.size(0)\n",
    "            correct += predicted.eq(labels).sum().item()\n",
    "\n",
    "        accuracy = 100 * correct / total\n",
    "        avg_validation_loss = validation_loss / len(val_loader)\n",
    "        #print(f\"Validation Loss: {avg_validation_loss:.4f}, Accuracy: {accuracy:.2f}%\")\n",
    "\n",
    "        # Check if the current model has the best validation loss\n",
    "        if avg_validation_loss < best_validation_loss:\n",
    "            best_validation_loss = avg_validation_loss\n",
    "            torch.save(model.state_dict(), \"best_model.pt\")\n"
   ]
  },
  {
   "cell_type": "code",
   "execution_count": 25,
   "metadata": {},
   "outputs": [
    {
     "name": "stdout",
     "output_type": "stream",
     "text": [
      "              precision    recall  f1-score   support\n",
      "\n",
      "           0       0.86      0.91      0.88       106\n",
      "           1       0.82      0.88      0.85        26\n",
      "           2       1.00      1.00      1.00        41\n",
      "           3       0.80      1.00      0.89       139\n",
      "           4       0.99      0.72      0.83       108\n",
      "           5       0.86      0.47      0.61        38\n",
      "           6       0.93      0.99      0.96        79\n",
      "\n",
      "    accuracy                           0.88       537\n",
      "   macro avg       0.89      0.85      0.86       537\n",
      "weighted avg       0.89      0.88      0.87       537\n",
      "\n"
     ]
    }
   ],
   "source": [
    "#Evaluating the model \n",
    "model_test_dataset = ImageFolder(root=data_dir + '/model_test', transform=transform)\n",
    "test_loader = DataLoader(model_test_dataset, batch_size=batch_size, shuffle=False)\n",
    "\n",
    "model.eval()\n",
    "\n",
    "predictions = []\n",
    "true_labels = []\n",
    "example_inputs = None\n",
    "with torch.no_grad():\n",
    "    for images, labels in test_loader:\n",
    "        images = images.to(device)\n",
    "        example_input = images\n",
    "        labels = labels.to(device)\n",
    "\n",
    "        # Forward pass\n",
    "        outputs = model(images)\n",
    "        _, predicted = torch.max(outputs, 1)\n",
    "\n",
    "        predictions.extend(predicted.cpu().tolist())\n",
    "        true_labels.extend(labels.cpu().tolist())\n",
    "\n",
    "from sklearn.metrics import classification_report\n",
    "\n",
    "print(classification_report(true_labels, predictions))\n"
   ]
  },
  {
   "cell_type": "code",
   "execution_count": 16,
   "metadata": {},
   "outputs": [],
   "source": [
    "#Prepare example image\n",
    "import torch\n",
    "import torchvision.transforms as transforms\n",
    "from PIL import Image\n",
    "\n",
    "# Load and preprocess the image\n",
    "image_path = \"dtset\\\\train\\\\angular_leafspot\\\\angular_leafspot2.jpg\"\n",
    "image = Image.open(image_path).convert(\"RGB\")\n",
    "\n",
    "# Define the transformations to be applied to the image\n",
    "transform = transforms.Compose([\n",
    "    transforms.Resize((224, 224)),  # Resize the image to the desired input size of your model\n",
    "    transforms.ToTensor(),  # Convert the image to a PyTorch tensor\n",
    "    transforms.Normalize(mean=[0.485, 0.456, 0.406], std=[0.229, 0.224, 0.225])  # Normalize the image\n",
    "])\n",
    "\n",
    "# Apply the transformations to the image\n",
    "input_example = transform(image)\n",
    "\n",
    "# Expand the dimensions of the input example to match the expected batch size\n",
    "input_example = input_example.unsqueeze(0)"
   ]
  },
  {
   "cell_type": "code",
   "execution_count": null,
   "metadata": {},
   "outputs": [],
   "source": []
  }
 ],
 "metadata": {
  "kernelspec": {
   "display_name": "Python 3",
   "language": "python",
   "name": "python3"
  },
  "language_info": {
   "codemirror_mode": {
    "name": "ipython",
    "version": 3
   },
   "file_extension": ".py",
   "mimetype": "text/x-python",
   "name": "python",
   "nbconvert_exporter": "python",
   "pygments_lexer": "ipython3",
   "version": "3.10.9"
  },
  "orig_nbformat": 4
 },
 "nbformat": 4,
 "nbformat_minor": 2
}
