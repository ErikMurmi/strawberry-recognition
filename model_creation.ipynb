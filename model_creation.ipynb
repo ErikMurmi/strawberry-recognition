{
 "cells": [
  {
   "cell_type": "code",
   "execution_count": 2,
   "metadata": {},
   "outputs": [
    {
     "data": {
      "text/plain": [
       "'2.0.1+cu118'"
      ]
     },
     "execution_count": 2,
     "metadata": {},
     "output_type": "execute_result"
    }
   ],
   "source": [
    "#Library importation\n",
    "import torch\n",
    "import torchvision\n",
    "from torch.utils.mobile_optimizer import optimize_for_mobile\n",
    "torch.__version__"
   ]
  },
  {
   "cell_type": "code",
   "execution_count": 5,
   "metadata": {},
   "outputs": [],
   "source": [
    "#Model creation examplo for 1000 images\n",
    "model = torchvision.models.mobilenet_v2(pretrained=True)\n",
    "model.eval()\n",
    "#Creates a 3 dimension random tensor of size 224 x 224\n",
    "example = torch.rand(1,3,224,224)\n",
    "traced_script_module = torch.jit.trace(model,example)\n",
    "traced_script_module_optimized = optimize_for_mobile(traced_script_module)\n",
    "traced_script_module._save_for_lite_interpreter(\"model.ptl\")"
   ]
  },
  {
   "cell_type": "code",
   "execution_count": null,
   "metadata": {},
   "outputs": [],
   "source": [
    "#Frutillas model creation try 1\n",
    "fru_model = torchvision.models.mobilenet_v2(pretrained=False)\n",
    "fru_model.load_state_dict(torch.load('frutilla_model_final.pth'))\n",
    "fru_model.eval()\n",
    "#Creates a 3 dimension random tensor of size 224 x 224\n",
    "example = torch.rand(1,3,224,224)\n",
    "traced_script_module = torch.jit.trace(fru_model,example)\n",
    "traced_script_module_optimized = optimize_for_mobile(traced_script_module)\n",
    "traced_script_module._save_for_lite_interpreter(\"model.ptl\")"
   ]
  },
  {
   "cell_type": "code",
   "execution_count": 4,
   "metadata": {},
   "outputs": [],
   "source": [
    "#TRY 2\n",
    "import torch\n",
    "import torch.nn as nn\n",
    "import torchvision.models as models\n",
    "from torch.utils.mobile_optimizer import optimize_for_mobile\n",
    "# Define the model architecture\n",
    "num_classes = 7\n",
    "model = models.alexnet(pretrained=False)\n",
    "model.classifier[6] = nn.Linear(4096, num_classes)\n",
    "\n",
    "# Load the pretrained weights\n",
    "model.load_state_dict(torch.load('frutilla_model_final.pth'))\n",
    "\n",
    "# Optimize the model for mobile\n",
    "model.eval()\n",
    "example_input = torch.rand(1, 3, 224, 224)\n",
    "traced_model = torch.jit.trace(model, example_input)\n",
    "traced_model_optimized = optimize_for_mobile(traced_model)\n",
    "\n",
    "# Save the optimized model for mobile\n",
    "traced_model_optimized._save_for_lite_interpreter(\"fru_model.ptl\")\n"
   ]
  },
  {
   "cell_type": "code",
   "execution_count": 6,
   "metadata": {},
   "outputs": [
    {
     "name": "stdout",
     "output_type": "stream",
     "text": [
      "tensor([[ 1.5658, -0.7685, -0.8011, -0.8122, -0.6131,  0.1823, -0.7585]])\n"
     ]
    }
   ],
   "source": [
    "#Test output\n",
    "output = traced_model_optimized(example_input)\n",
    "print(output)"
   ]
  },
  {
   "cell_type": "code",
   "execution_count": null,
   "metadata": {},
   "outputs": [],
   "source": []
  }
 ],
 "metadata": {
  "kernelspec": {
   "display_name": "base",
   "language": "python",
   "name": "python3"
  },
  "language_info": {
   "codemirror_mode": {
    "name": "ipython",
    "version": 3
   },
   "file_extension": ".py",
   "mimetype": "text/x-python",
   "name": "python",
   "nbconvert_exporter": "python",
   "pygments_lexer": "ipython3",
   "version": "3.10.9"
  },
  "orig_nbformat": 4
 },
 "nbformat": 4,
 "nbformat_minor": 2
}
